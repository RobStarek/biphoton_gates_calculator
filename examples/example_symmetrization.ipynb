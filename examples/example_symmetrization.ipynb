{
 "cells": [
  {
   "cell_type": "markdown",
   "source": [
    "# Example 1: Symmetrization on beam-splitter\r\n",
    "In this example we analyze what happens if two polarized indistinguishable \r\n",
    "photons mix at the general beam splitter with reflectances $T_h$ and $T_v$ for\r\n",
    "each polarization.\r\n",
    "\r\n",
    "We will see that the ballanced beam splitter would project the state\r\n",
    "to the singlet Bell state."
   ],
   "metadata": {}
  },
  {
   "cell_type": "code",
   "execution_count": 1,
   "source": [
    "import json\r\n",
    "import numpy as np\r\n",
    "import sympy as sp\r\n",
    "from json_netlist import instantiate_netlist_components, sp_calculate_effective_matrix\r\n",
    "from two_photon_conversion import sp_construct_operator, sp_create_filter_matrix"
   ],
   "outputs": [],
   "metadata": {}
  },
  {
   "cell_type": "markdown",
   "source": [
    "mode numbering:\r\n",
    "* 0 : path A, polarization H\r\n",
    "* 1 : path A, polarization V\r\n",
    "* 2 : path B, polarization H\r\n",
    "* 3 : path B, polarization V\r\n",
    "it is same for input and output"
   ],
   "metadata": {}
  },
  {
   "cell_type": "code",
   "execution_count": 2,
   "source": [
    "netlist_json_string = \"\"\"\r\n",
    "{\r\n",
    "    \"CentralBS\" : {\r\n",
    "      \"type\" : \"BS2pol\",\r\n",
    "      \"input_modes\" : [0,1,2,3],\r\n",
    "      \"output_modes\" : [0,1,2,3],\r\n",
    "      \"layer\" : 0,\r\n",
    "      \"arguments\" : [\"Th\",\"Tv\"],\r\n",
    "      \"kw_args\" : {\"sympy\" : true}\r\n",
    "    }\r\n",
    "  }\r\n",
    "\"\"\"\r\n",
    "netlist = json.loads(netlist_json_string)\r\n",
    "\r\n",
    "instances = instantiate_netlist_components(netlist)\r\n",
    "single_photon_map = sp_calculate_effective_matrix(instances)\r\n",
    "single_photon_map #print single photon map"
   ],
   "outputs": [
    {
     "output_type": "execute_result",
     "data": {
      "text/latex": [
       "$\\displaystyle \\left[\\begin{matrix}\\sqrt{Th} & 0 & \\sqrt{1 - Th} & 0\\\\0 & \\sqrt{Tv} & 0 & \\sqrt{1 - Tv}\\\\- \\sqrt{1 - Th} & 0 & \\sqrt{Th} & 0\\\\0 & - \\sqrt{1 - Tv} & 0 & \\sqrt{Tv}\\end{matrix}\\right]$"
      ],
      "text/plain": [
       "Matrix([\n",
       "[     sqrt(Th),             0, sqrt(1 - Th),            0],\n",
       "[            0,      sqrt(Tv),            0, sqrt(1 - Tv)],\n",
       "[-sqrt(1 - Th),             0,     sqrt(Th),            0],\n",
       "[            0, -sqrt(1 - Tv),            0,     sqrt(Tv)]])"
      ]
     },
     "metadata": {},
     "execution_count": 2
    }
   ],
   "metadata": {}
  },
  {
   "cell_type": "markdown",
   "source": [
    "how computational basis state are encoded:\r\n",
    "* |00> : signal photon in mode 0 (path A, polarization H), idler photon in mode 2 (path B, polarization H)\r\n",
    "* |01> : signal photon in mode 0 (path A, polarization H), idler photon in mode 3 (path B, polarization V)\r\n",
    "* |10> : signal photon in mode 1 (path A, polarization V), idler photon in mode 2 (path B, polarization H)\r\n",
    "* |11> : signal photon in mode 1 (path A, polarization V), idler photon in mode 3 (path B, polarization V)\r\n",
    "the output encoding is the same."
   ],
   "metadata": {}
  },
  {
   "cell_type": "code",
   "execution_count": 3,
   "source": [
    "allowed_inputs = [\r\n",
    "    (0,2),\r\n",
    "    (0,3),\r\n",
    "    (1,2),\r\n",
    "    (1,3)\r\n",
    "]\r\n",
    "allowed_outputs = [\r\n",
    "    (0,2),\r\n",
    "    (0,3),\r\n",
    "    (1,2),\r\n",
    "    (1,3)\r\n",
    "]\r\n",
    "n_map_rows = single_photon_map.shape[0]\r\n",
    "filter_matrix = sp_create_filter_matrix(allowed_outputs, n_map_rows, True, True)\r\n",
    "two_photon_operator = sp_construct_operator(single_photon_map, allowed_inputs, filter_matrix)\r\n",
    "two_photon_operator #print single photon map"
   ],
   "outputs": [
    {
     "output_type": "execute_result",
     "data": {
      "text/latex": [
       "$\\displaystyle \\left[\\begin{matrix}2.0 Th - 1.0 & 0 & 0 & 0\\\\0 & 1.0 \\sqrt{Th} \\sqrt{Tv} & - 1.0 \\sqrt{1 - Th} \\sqrt{1 - Tv} & 0\\\\0 & - 1.0 \\sqrt{1 - Th} \\sqrt{1 - Tv} & 1.0 \\sqrt{Th} \\sqrt{Tv} & 0\\\\0 & 0 & 0 & 2.0 Tv - 1.0\\end{matrix}\\right]$"
      ],
      "text/plain": [
       "Matrix([\n",
       "[2.0*Th - 1.0,                              0,                              0,            0],\n",
       "[           0,          1.0*sqrt(Th)*sqrt(Tv), -1.0*sqrt(1 - Th)*sqrt(1 - Tv),            0],\n",
       "[           0, -1.0*sqrt(1 - Th)*sqrt(1 - Tv),          1.0*sqrt(Th)*sqrt(Tv),            0],\n",
       "[           0,                              0,                              0, 2.0*Tv - 1.0]])"
      ]
     },
     "metadata": {},
     "execution_count": 3
    }
   ],
   "metadata": {}
  },
  {
   "cell_type": "code",
   "execution_count": 4,
   "source": [
    "#print substituted expression to see that it performs projection\r\n",
    "#to singlet Bell state\r\n",
    "sp.N(two_photon_operator.subs([('Th', 1/2), ('Tv', 1/2)] ),chop=1e-12)"
   ],
   "outputs": [
    {
     "output_type": "execute_result",
     "data": {
      "text/latex": [
       "$\\displaystyle \\left[\\begin{matrix}0 & 0 & 0 & 0\\\\0 & 0.5 & -0.5 & 0\\\\0 & -0.5 & 0.5 & 0\\\\0 & 0 & 0 & 0\\end{matrix}\\right]$"
      ],
      "text/plain": [
       "Matrix([\n",
       "[0,    0,    0, 0],\n",
       "[0,  0.5, -0.5, 0],\n",
       "[0, -0.5,  0.5, 0],\n",
       "[0,    0,    0, 0]])"
      ]
     },
     "metadata": {},
     "execution_count": 4
    }
   ],
   "metadata": {}
  },
  {
   "cell_type": "code",
   "execution_count": 5,
   "source": [
    "#plot twist: controlled pi-phase shift\r\n",
    "sp.N(two_photon_operator.subs([('Th', 1), ('Tv', 1/3)] ),chop=1e-12)"
   ],
   "outputs": [
    {
     "output_type": "execute_result",
     "data": {
      "text/latex": [
       "$\\displaystyle \\left[\\begin{matrix}1.0 & 0 & 0 & 0\\\\0 & 0.577350269189626 & 0 & 0\\\\0 & 0 & 0.577350269189626 & 0\\\\0 & 0 & 0 & -0.333333333333333\\end{matrix}\\right]$"
      ],
      "text/plain": [
       "Matrix([\n",
       "[1.0,                 0,                 0,                  0],\n",
       "[  0, 0.577350269189626,                 0,                  0],\n",
       "[  0,                 0, 0.577350269189626,                  0],\n",
       "[  0,                 0,                 0, -0.333333333333333]])"
      ]
     },
     "metadata": {},
     "execution_count": 5
    }
   ],
   "metadata": {}
  }
 ],
 "metadata": {
  "orig_nbformat": 4,
  "language_info": {
   "name": "python",
   "version": "3.7.1",
   "mimetype": "text/x-python",
   "codemirror_mode": {
    "name": "ipython",
    "version": 3
   },
   "pygments_lexer": "ipython3",
   "nbconvert_exporter": "python",
   "file_extension": ".py"
  },
  "kernelspec": {
   "name": "python3",
   "display_name": "Python 3.7.1 64-bit ('base': conda)"
  },
  "interpreter": {
   "hash": "9edc0e85da01f36cb21954a38b5a549841b5633a9a4527f1fb430ae3c8ff1be1"
  }
 },
 "nbformat": 4,
 "nbformat_minor": 2
}