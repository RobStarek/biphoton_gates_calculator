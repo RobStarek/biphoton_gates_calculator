{
 "cells": [
  {
   "cell_type": "markdown",
   "source": [
    "# Example 2: CZ gate\r\n",
    "In this example we analyze what happens if two polarized indistinguishable \r\n",
    "photons mix at the general beam splitter with reflectances $T_h$ and $T_v$ for\r\n",
    "each polarization. Then we attenuate the modues again with another beam splitters.\r\n"
   ],
   "metadata": {}
  },
  {
   "cell_type": "code",
   "execution_count": 27,
   "source": [
    "import json\r\n",
    "import numpy as np\r\n",
    "import sympy as sp\r\n",
    "from json_netlist import instantiate_netlist_components, sp_calculate_effective_matrix\r\n",
    "from two_photon_conversion import sp_construct_operator, sp_create_filter_matrix"
   ],
   "outputs": [],
   "metadata": {}
  },
  {
   "cell_type": "markdown",
   "source": [
    "mode numbering:\r\n",
    "* 0 : path A, polarization H\r\n",
    "* 1 : path A, polarization V\r\n",
    "* 2 : path B, polarization H\r\n",
    "* 3 : path B, polarization V\r\n",
    "it is same for input and output"
   ],
   "metadata": {}
  },
  {
   "cell_type": "code",
   "execution_count": 28,
   "source": [
    "netlist_json_string = \"\"\"\r\n",
    "{\r\n",
    "    \"BSAtten1\" : {\r\n",
    "      \"type\" : \"BS2pol\",\r\n",
    "      \"input_modes\" : [0,1,null,null],\r\n",
    "      \"output_modes\" : [0,1,null,null],\r\n",
    "      \"layer\" : 0,\r\n",
    "      \"arguments\" : [\"Th1\",\"Tv1\"],\r\n",
    "      \"kw_args\" : {\"sympy\" : true}\r\n",
    "    },\r\n",
    "    \"BSAtten2\" : {\r\n",
    "      \"type\" : \"BS2pol\",\r\n",
    "      \"input_modes\" : [2,3,null,null],\r\n",
    "      \"output_modes\" : [2,3,null,null],\r\n",
    "      \"layer\" : 0,\r\n",
    "      \"arguments\" : [\"Th2\",\"Tv2\"],\r\n",
    "      \"kw_args\" : {\"sympy\" : true}\r\n",
    "    },     \r\n",
    "    \"CentralBS\" : {\r\n",
    "      \"type\" : \"BS2pol\",\r\n",
    "      \"input_modes\" : [0,1,2,3],\r\n",
    "      \"output_modes\" : [0,1,2,3],\r\n",
    "      \"layer\" : 1,\r\n",
    "      \"arguments\" : [\"Th\",\"Tv\"],\r\n",
    "      \"kw_args\" : {\"sympy\" : true}\r\n",
    "    }\r\n",
    "}\r\n",
    "\"\"\"\r\n",
    "netlist = json.loads(netlist_json_string)\r\n",
    "instances = instantiate_netlist_components(netlist)\r\n",
    "single_photon_map = sp_calculate_effective_matrix(instances)\r\n",
    "single_photon_map #print single photon map"
   ],
   "outputs": [
    {
     "output_type": "execute_result",
     "data": {
      "text/latex": [
       "$\\displaystyle \\left[\\begin{matrix}\\sqrt{Th} \\sqrt{Th_{1}} & 0 & \\sqrt{Th_{2}} \\sqrt{1 - Th} & 0\\\\0 & \\sqrt{Tv} \\sqrt{Tv_{1}} & 0 & \\sqrt{Tv_{2}} \\sqrt{1 - Tv}\\\\- \\sqrt{Th_{1}} \\sqrt{1 - Th} & 0 & \\sqrt{Th} \\sqrt{Th_{2}} & 0\\\\0 & - \\sqrt{Tv_{1}} \\sqrt{1 - Tv} & 0 & \\sqrt{Tv} \\sqrt{Tv_{2}}\\end{matrix}\\right]$"
      ],
      "text/plain": [
       "Matrix([\n",
       "[     sqrt(Th)*sqrt(Th1),                       0, sqrt(Th2)*sqrt(1 - Th),                      0],\n",
       "[                      0,      sqrt(Tv)*sqrt(Tv1),                      0, sqrt(Tv2)*sqrt(1 - Tv)],\n",
       "[-sqrt(Th1)*sqrt(1 - Th),                       0,     sqrt(Th)*sqrt(Th2),                      0],\n",
       "[                      0, -sqrt(Tv1)*sqrt(1 - Tv),                      0,     sqrt(Tv)*sqrt(Tv2)]])"
      ]
     },
     "metadata": {},
     "execution_count": 28
    }
   ],
   "metadata": {}
  },
  {
   "cell_type": "markdown",
   "source": [
    "how computational basis state are encoded:\r\n",
    "* |00> : signal photon in mode 0 (path A, polarization H), idler photon in mode 2 (path B, polarization H)\r\n",
    "* |01> : signal photon in mode 0 (path A, polarization H), idler photon in mode 3 (path B, polarization V)\r\n",
    "* |10> : signal photon in mode 1 (path A, polarization V), idler photon in mode 2 (path B, polarization H)\r\n",
    "* |11> : signal photon in mode 1 (path A, polarization V), idler photon in mode 3 (path B, polarization V)\r\n",
    "the output encoding is the same."
   ],
   "metadata": {}
  },
  {
   "cell_type": "code",
   "execution_count": 29,
   "source": [
    "allowed_inputs = [\r\n",
    "    (0,2),\r\n",
    "    (0,3),\r\n",
    "    (1,2),\r\n",
    "    (1,3)\r\n",
    "]\r\n",
    "allowed_outputs = [\r\n",
    "    (0,2),\r\n",
    "    (0,3),\r\n",
    "    (1,2),\r\n",
    "    (1,3)\r\n",
    "]\r\n",
    "n_map_rows = single_photon_map.shape[0]\r\n",
    "filter_matrix = sp_create_filter_matrix(allowed_outputs, n_map_rows, True, True)\r\n",
    "two_photon_operator = sp_construct_operator(single_photon_map, allowed_inputs, filter_matrix)\r\n",
    "two_photon_operator #print single photon map"
   ],
   "outputs": [
    {
     "output_type": "execute_result",
     "data": {
      "text/latex": [
       "$\\displaystyle \\left[\\begin{matrix}1.0 Th \\sqrt{Th_{1}} \\sqrt{Th_{2}} - 1.0 \\sqrt{Th_{1}} \\sqrt{Th_{2}} \\cdot \\left(1 - Th\\right) & 0 & 0 & 0\\\\0 & 1.0 \\sqrt{Th} \\sqrt{Th_{1}} \\sqrt{Tv} \\sqrt{Tv_{2}} & - 1.0 \\sqrt{Th_{2}} \\sqrt{Tv_{1}} \\sqrt{1 - Th} \\sqrt{1 - Tv} & 0\\\\0 & - 1.0 \\sqrt{Th_{1}} \\sqrt{Tv_{2}} \\sqrt{1 - Th} \\sqrt{1 - Tv} & 1.0 \\sqrt{Th} \\sqrt{Th_{2}} \\sqrt{Tv} \\sqrt{Tv_{1}} & 0\\\\0 & 0 & 0 & 1.0 Tv \\sqrt{Tv_{1}} \\sqrt{Tv_{2}} - 1.0 \\sqrt{Tv_{1}} \\sqrt{Tv_{2}} \\cdot \\left(1 - Tv\\right)\\end{matrix}\\right]$"
      ],
      "text/plain": [
       "Matrix([\n",
       "[1.0*Th*sqrt(Th1)*sqrt(Th2) - 1.0*sqrt(Th1)*sqrt(Th2)*(1 - Th),                                                  0,                                                  0,                                                             0],\n",
       "[                                                            0,          1.0*sqrt(Th)*sqrt(Th1)*sqrt(Tv)*sqrt(Tv2), -1.0*sqrt(Th2)*sqrt(Tv1)*sqrt(1 - Th)*sqrt(1 - Tv),                                                             0],\n",
       "[                                                            0, -1.0*sqrt(Th1)*sqrt(Tv2)*sqrt(1 - Th)*sqrt(1 - Tv),          1.0*sqrt(Th)*sqrt(Th2)*sqrt(Tv)*sqrt(Tv1),                                                             0],\n",
       "[                                                            0,                                                  0,                                                  0, 1.0*Tv*sqrt(Tv1)*sqrt(Tv2) - 1.0*sqrt(Tv1)*sqrt(Tv2)*(1 - Tv)]])"
      ]
     },
     "metadata": {},
     "execution_count": 29
    }
   ],
   "metadata": {}
  },
  {
   "cell_type": "code",
   "execution_count": 30,
   "source": [
    "sp.N(two_photon_operator.subs([('Th', 1), ('Tv', 1/3), ('Th1', 1/3), ('Tv1', 1), ('Th2', 1/3), ('Tv2', 1)] ),chop=1e-12)"
   ],
   "outputs": [
    {
     "output_type": "execute_result",
     "data": {
      "text/latex": [
       "$\\displaystyle \\left[\\begin{matrix}0.333333333333333 & 0 & 0 & 0\\\\0 & 0.333333333333333 & 0 & 0\\\\0 & 0 & 0.333333333333333 & 0\\\\0 & 0 & 0 & -0.333333333333333\\end{matrix}\\right]$"
      ],
      "text/plain": [
       "Matrix([\n",
       "[0.333333333333333,                 0,                 0,                  0],\n",
       "[                0, 0.333333333333333,                 0,                  0],\n",
       "[                0,                 0, 0.333333333333333,                  0],\n",
       "[                0,                 0,                 0, -0.333333333333333]])"
      ]
     },
     "metadata": {},
     "execution_count": 30
    }
   ],
   "metadata": {}
  },
  {
   "cell_type": "code",
   "execution_count": 31,
   "source": [
    "#create numpy function describing the operator\r\n",
    "foo = sp.lambdify([sp.Symbol('Th'), sp.Symbol('Tv'), sp.Symbol('Th1'), sp.Symbol('Tv1'), sp.Symbol('Th2'), sp.Symbol('Tv2')], two_photon_operator, modules = ['numpy'])\r\n",
    "foo(1,0.3333, 0.3333, 1, 0.3333, 1)"
   ],
   "outputs": [
    {
     "output_type": "execute_result",
     "data": {
      "text/plain": [
       "array([[ 0.3333,  0.    ,  0.    ,  0.    ],\n",
       "       [ 0.    ,  0.3333, -0.    ,  0.    ],\n",
       "       [ 0.    , -0.    ,  0.3333,  0.    ],\n",
       "       [ 0.    ,  0.    ,  0.    , -0.3334]])"
      ]
     },
     "metadata": {},
     "execution_count": 31
    }
   ],
   "metadata": {}
  }
 ],
 "metadata": {
  "orig_nbformat": 4,
  "language_info": {
   "name": "python",
   "version": "3.7.1",
   "mimetype": "text/x-python",
   "codemirror_mode": {
    "name": "ipython",
    "version": 3
   },
   "pygments_lexer": "ipython3",
   "nbconvert_exporter": "python",
   "file_extension": ".py"
  },
  "kernelspec": {
   "name": "python3",
   "display_name": "Python 3.7.1 64-bit ('base': conda)"
  },
  "interpreter": {
   "hash": "9edc0e85da01f36cb21954a38b5a549841b5633a9a4527f1fb430ae3c8ff1be1"
  }
 },
 "nbformat": 4,
 "nbformat_minor": 2
}