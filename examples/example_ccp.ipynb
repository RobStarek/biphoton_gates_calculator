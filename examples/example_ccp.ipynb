{
 "cells": [
  {
   "cell_type": "markdown",
   "source": [
    "# Example 6: qudit-controlled-phase gate\r\n",
    "\r\n",
    "![](CCP_gate.svg \"Example\")\r\n",
    "Note that for layers that operate only on some modes, add the 'atten' identity component to let the program know that we still need these modes and do not want to discard them."
   ],
   "metadata": {}
  },
  {
   "cell_type": "code",
   "execution_count": 166,
   "source": [
    "import json\r\n",
    "import numpy as np\r\n",
    "import sympy as sp\r\n",
    "import matplotlib.pyplot as plt\r\n",
    "from json_netlist import instantiate_netlist_components, sp_calculate_effective_matrix\r\n",
    "from two_photon_conversion import sp_construct_operator, sp_create_filter_matrix"
   ],
   "outputs": [],
   "metadata": {}
  },
  {
   "cell_type": "code",
   "execution_count": 167,
   "source": [
    "netlist = \"\"\"\r\n",
    "{\r\n",
    "    \"bd12\" : {\r\n",
    "      \"type\" : \"atten\",\r\n",
    "      \"input_modes\" : [0, 1, 2, 3, 4, 5],\r\n",
    "      \"output_modes\" : [0, 1, 2, 3, 4, 7],\r\n",
    "      \"layer\" : 0,\r\n",
    "      \"arguments\" : [1, 1, 1, 1, 1, 1],\r\n",
    "      \"kw_args\" : {\"sympy\" : false, \"integer\" : true}\r\n",
    "    }, \r\n",
    "    \"hwpx\" : {\r\n",
    "      \"type\" : \"hwp\",\r\n",
    "      \"input_modes\" : [6, 7],\r\n",
    "      \"output_modes\" : [6, 7],\r\n",
    "      \"layer\" : 1,\r\n",
    "      \"arguments\" : [\"x\", 0],\r\n",
    "      \"kw_args\" : {\"sympy\" : true, \"integer\" : false}\r\n",
    "    },\r\n",
    "    \"hwp0\" : {\r\n",
    "      \"type\" : \"hwp\",\r\n",
    "      \"input_modes\" : [4, 5],\r\n",
    "      \"output_modes\" : [4, 5],\r\n",
    "      \"layer\" : 1,\r\n",
    "      \"arguments\" : [0, 0],\r\n",
    "      \"kw_args\" : {\"sympy\" : true, \"integer\" : false}\r\n",
    "    },\r\n",
    "    \"propagation1\" : {\r\n",
    "      \"type\" : \"atten\",\r\n",
    "      \"input_modes\" : [0, 1, 2, 3],\r\n",
    "      \"output_modes\" : [0, 1, 2, 3],\r\n",
    "      \"layer\" : 1,\r\n",
    "      \"arguments\" : [1, 1, 1, 1],\r\n",
    "      \"kw_args\" : {\"sympy\" : false, \"integer\" : true}\r\n",
    "    }, \r\n",
    "    \"propagation2\" : {\r\n",
    "      \"type\" : \"atten\",\r\n",
    "      \"input_modes\" : [0, 1, 2, 3],\r\n",
    "      \"output_modes\" : [0, 1, 2, 3],\r\n",
    "      \"layer\" : 2,\r\n",
    "      \"arguments\" : [1, 1, 1, 1],\r\n",
    "      \"kw_args\" : {\"sympy\" : false, \"integer\" : true}\r\n",
    "    },   \r\n",
    "    \"qwp0pt1\" : {\r\n",
    "      \"type\" : \"qwp\",\r\n",
    "      \"input_modes\" : [4, 5],\r\n",
    "      \"output_modes\" : [4, 5],\r\n",
    "      \"layer\" : 2,\r\n",
    "      \"arguments\" : [0, 0],\r\n",
    "      \"kw_args\" : {\"sympy\" : true, \"integer\" : false}\r\n",
    "    },\r\n",
    "    \"qwp0pt2\" : {\r\n",
    "      \"type\" : \"qwp\",\r\n",
    "      \"input_modes\" : [6, 7],\r\n",
    "      \"output_modes\" : [6, 7],\r\n",
    "      \"layer\" : 2,\r\n",
    "      \"arguments\" : [0, 0],\r\n",
    "      \"kw_args\" : {\"sympy\" : true, \"integer\" : false}\r\n",
    "    },\r\n",
    "    \"CentralBS_pt1\" : {\r\n",
    "      \"type\" : \"BS2pol\",\r\n",
    "      \"input_modes\" : [2,3,6,7],\r\n",
    "      \"output_modes\" : [2,3,6,7],\r\n",
    "      \"layer\" : 3,\r\n",
    "      \"arguments\" : [\"Th\",\"Tv\"],\r\n",
    "      \"kw_args\" : {\"sympy\" : true}\r\n",
    "    },\r\n",
    "    \"CentralBS_pt2\" : {\r\n",
    "      \"type\" : \"BS2pol\",\r\n",
    "      \"input_modes\" : [0,1,null,null],\r\n",
    "      \"output_modes\" : [0,1,null,null],\r\n",
    "      \"layer\" : 3,\r\n",
    "      \"arguments\" : [\"Th\",\"Tv\"],\r\n",
    "      \"kw_args\" : {\"sympy\" : true}\r\n",
    "    },\r\n",
    "    \"CentralBS_pt3\" : {\r\n",
    "      \"type\" : \"BS2pol\",\r\n",
    "      \"input_modes\" : [null,null,4,5],\r\n",
    "      \"output_modes\" : [null,null,4,5],\r\n",
    "      \"layer\" : 3,\r\n",
    "      \"arguments\" : [\"Th\",\"Tv\"],\r\n",
    "      \"kw_args\" : {\"sympy\" : true}\r\n",
    "    },\r\n",
    "    \"hwp45pt1\" : {\r\n",
    "      \"type\" : \"hwp\",\r\n",
    "      \"input_modes\" : [0, 1],\r\n",
    "      \"output_modes\" : [0, 1],\r\n",
    "      \"layer\" : 4,\r\n",
    "      \"arguments\" : [\"arg45\", 0],\r\n",
    "      \"kw_args\" : {\"sympy\" : true, \"integer\" : false}\r\n",
    "    },\r\n",
    "    \"hwp45pt2\" : {\r\n",
    "      \"type\" : \"hwp\",\r\n",
    "      \"input_modes\" : [2, 3],\r\n",
    "      \"output_modes\" : [2, 3],\r\n",
    "      \"layer\" : 4,\r\n",
    "      \"arguments\" : [\"arg45\", 0],\r\n",
    "      \"kw_args\" : {\"sympy\" : true, \"integer\" : false}\r\n",
    "    },\r\n",
    "    \"hwp45pt3\" : {\r\n",
    "      \"type\" : \"hwp\",\r\n",
    "      \"input_modes\" : [4, 5],\r\n",
    "      \"output_modes\" : [4, 5],\r\n",
    "      \"layer\" : 4,\r\n",
    "      \"arguments\" : [\"arg45\", 0],\r\n",
    "      \"kw_args\" : {\"sympy\" : true, \"integer\" : false}\r\n",
    "    },\r\n",
    "    \"hwp45pt4\" : {\r\n",
    "      \"type\" : \"hwp\",\r\n",
    "      \"input_modes\" : [6, 7],\r\n",
    "      \"output_modes\" : [6, 7],\r\n",
    "      \"layer\" : 4,\r\n",
    "      \"arguments\" : [\"arg45\", 0],\r\n",
    "      \"kw_args\" : {\"sympy\" : true, \"integer\" : false}\r\n",
    "    },\r\n",
    "    \"AttenBS1_pt1\" : {\r\n",
    "      \"type\" : \"BS2pol\",\r\n",
    "      \"input_modes\" : [0,1,null,null],\r\n",
    "      \"output_modes\" : [0,1,null,null],\r\n",
    "      \"layer\" : 5,\r\n",
    "      \"arguments\" : [\"Th\",\"Tv\"],\r\n",
    "      \"kw_args\" : {\"sympy\" : true}\r\n",
    "    },\r\n",
    "    \"AttenBS1_pt2\" : {\r\n",
    "      \"type\" : \"BS2pol\",\r\n",
    "      \"input_modes\" : [2,3,null,null],\r\n",
    "      \"output_modes\" : [2,3,null,null],\r\n",
    "      \"layer\" : 5,\r\n",
    "      \"arguments\" : [\"Th\",\"Tv\"],\r\n",
    "      \"kw_args\" : {\"sympy\" : true}\r\n",
    "    },\r\n",
    "    \"AttenBS2_pt1\" : {\r\n",
    "      \"type\" : \"BS2pol\",\r\n",
    "      \"input_modes\" : [4,5,null,null],\r\n",
    "      \"output_modes\" : [4,5,null,null],\r\n",
    "      \"layer\" : 5,\r\n",
    "      \"arguments\" : [\"Th\",\"Tv\"],\r\n",
    "      \"kw_args\" : {\"sympy\" : true}\r\n",
    "    },\r\n",
    "    \"AttenBS2_pt2\" : {\r\n",
    "      \"type\" : \"BS2pol\",\r\n",
    "      \"input_modes\" : [6,7,null,null],\r\n",
    "      \"output_modes\" : [6,7,null,null],\r\n",
    "      \"layer\" : 5,\r\n",
    "      \"arguments\" : [\"Th\",\"Tv\"],\r\n",
    "      \"kw_args\" : {\"sympy\" : true}\r\n",
    "    },\r\n",
    "    \"hwpy\" : {\r\n",
    "      \"type\" : \"hwp\",\r\n",
    "      \"input_modes\" : [6, 7],\r\n",
    "      \"output_modes\" : [6, 7],\r\n",
    "      \"layer\" : 6,\r\n",
    "      \"arguments\" : [\"y\", 0],\r\n",
    "      \"kw_args\" : {\"sympy\" : true, \"integer\" : false}\r\n",
    "    },\r\n",
    "    \"hwpz\" : {\r\n",
    "      \"type\" : \"hwp\",\r\n",
    "      \"input_modes\" : [4, 5],\r\n",
    "      \"output_modes\" : [4, 5],\r\n",
    "      \"layer\" : 6,\r\n",
    "      \"arguments\" : [\"z\", 0],\r\n",
    "      \"kw_args\" : {\"sympy\" : true, \"integer\" : false}\r\n",
    "    },\r\n",
    "    \"propagation3\" : {\r\n",
    "      \"type\" : \"atten\",\r\n",
    "      \"input_modes\" : [0, 1, 2, 3],\r\n",
    "      \"output_modes\" : [0, 1, 2, 3],\r\n",
    "      \"layer\" : 6,\r\n",
    "      \"arguments\" : [1, 1, 1, 1],\r\n",
    "      \"kw_args\" : {\"sympy\" : false, \"integer\" : true}\r\n",
    "    },\r\n",
    "    \"bd21\" : {\r\n",
    "      \"type\" : \"atten\",\r\n",
    "      \"input_modes\" : [0, 1, 2, 3, 4, 5, 6, 7],\r\n",
    "      \"output_modes\" : [0, 1, 2, 3, null, 5, 4, null],\r\n",
    "      \"layer\" : 7,\r\n",
    "      \"arguments\" : [1, 1, 1, 1, 1, 1, 1, 1],\r\n",
    "      \"kw_args\" : {\"sympy\" : false, \"integer\" : true}\r\n",
    "    }    \r\n",
    "  }\r\n",
    "\"\"\"\r\n",
    "netlist = json.loads(netlist)\r\n",
    "instances = instantiate_netlist_components(netlist)\r\n",
    "ccpmap = sp_calculate_effective_matrix(instances)\r\n",
    "ccpmap = sp.simplify(ccpmap.subs([('arg45', sp.pi/4)]))\r\n",
    "ccpmap #print single photon map"
   ],
   "outputs": [
    {
     "output_type": "execute_result",
     "data": {
      "text/latex": [
       "$\\displaystyle \\left[\\begin{matrix}0 & \\sqrt{Th} \\sqrt{Tv} & 0 & 0 & 0 & 0\\\\\\sqrt{Th} \\sqrt{Tv} & 0 & 0 & 0 & 0 & 0\\\\0 & 0 & 0 & \\sqrt{Th} \\sqrt{Tv} & 0 & - i \\sqrt{Th} \\sqrt{1 - Tv} \\cos{\\left(2 x \\right)}\\\\0 & 0 & \\sqrt{Th} \\sqrt{Tv} & 0 & 0 & \\sqrt{Tv} \\sqrt{1 - Th} \\sin{\\left(2 x \\right)}\\\\0 & 0 & - \\sqrt{Tv} \\sqrt{1 - Th} \\sin{\\left(2 y \\right)} & - \\sqrt{Th} \\sqrt{1 - Tv} \\cos{\\left(2 y \\right)} & 0 & \\sqrt{Th} \\sqrt{Tv} \\left(- i \\cos{\\left(2 x \\right)} \\cos{\\left(2 y \\right)} + \\frac{\\cos{\\left(2 x - 2 y \\right)}}{2} - \\frac{\\cos{\\left(2 x + 2 y \\right)}}{2}\\right)\\\\0 & 0 & 0 & 0 & - \\sqrt{Th} \\sqrt{Tv} \\cos{\\left(2 z \\right)} & 0\\end{matrix}\\right]$"
      ],
      "text/plain": [
       "Matrix([\n",
       "[                0, sqrt(Th)*sqrt(Tv),                               0,                               0,                           0,                                                                              0],\n",
       "[sqrt(Th)*sqrt(Tv),                 0,                               0,                               0,                           0,                                                                              0],\n",
       "[                0,                 0,                               0,               sqrt(Th)*sqrt(Tv),                           0,                                              -I*sqrt(Th)*sqrt(1 - Tv)*cos(2*x)],\n",
       "[                0,                 0,               sqrt(Th)*sqrt(Tv),                               0,                           0,                                                 sqrt(Tv)*sqrt(1 - Th)*sin(2*x)],\n",
       "[                0,                 0, -sqrt(Tv)*sqrt(1 - Th)*sin(2*y), -sqrt(Th)*sqrt(1 - Tv)*cos(2*y),                           0, sqrt(Th)*sqrt(Tv)*(-I*cos(2*x)*cos(2*y) + cos(2*x - 2*y)/2 - cos(2*x + 2*y)/2)],\n",
       "[                0,                 0,                               0,                               0, -sqrt(Th)*sqrt(Tv)*cos(2*z),                                                                              0]])"
      ]
     },
     "metadata": {},
     "execution_count": 167
    }
   ],
   "metadata": {}
  },
  {
   "cell_type": "code",
   "execution_count": 168,
   "source": [
    "allowed_inputs = [(i_signal, j_idler+4) for i_signal in range(4) for j_idler in range(2)]\r\n",
    "allowed_outputs = [(i_signal, j_idler+4) for i_signal in range(4) for j_idler in range(2)]\r\n",
    "n_map_rows = ccpmap.shape[0]\r\n",
    "filter_matrix = sp_create_filter_matrix(allowed_outputs, n_map_rows, True, True)\r\n",
    "two_photon_operator = sp_construct_operator(ccpmap, allowed_inputs, filter_matrix)\r\n"
   ],
   "outputs": [],
   "metadata": {}
  },
  {
   "cell_type": "markdown",
   "source": [
    "Control phase introduces 0 shift."
   ],
   "metadata": {}
  },
  {
   "cell_type": "code",
   "execution_count": 169,
   "source": [
    "sigma_x = np.array([[0,1],[1,0]])\r\n",
    "shift_pi = np.array([[1,0],[0,-1]])\r\n",
    "eye2 = np.array([[1,0],[0,1]])\r\n",
    "flip = np.kron(np.kron(eye2, sigma_x), shift_pi @ sigma_x)\r\n",
    "sp_flip = sp.Matrix(flip)\r\n",
    "mat = sp_flip * two_photon_operator.subs([('Th', 1), ('Tv', 1/3), ('x', np.pi/4), ('y', np.pi/4), ('z', 0)])\r\n",
    "sp.N(-mat, chop=1e-12)"
   ],
   "outputs": [
    {
     "output_type": "execute_result",
     "data": {
      "text/latex": [
       "$\\displaystyle \\left[\\begin{matrix}0.333333333333333 & 0 & 0 & 0 & 0 & 0 & 0 & 0\\\\0 & 0.333333333333333 & 0 & 0 & 0 & 0 & 0 & 0\\\\0 & 0 & 0.333333333333333 & 0 & 0 & 0 & 0 & 0\\\\0 & 0 & 0 & 0.333333333333333 & 0 & 0 & 0 & 0\\\\0 & 0 & 0 & 0 & 0.333333333333333 & 0 & 0 & 0\\\\0 & 0 & 0 & 0 & 0 & 0.333333333333333 & 0 & 0\\\\0 & 0 & 0 & 0 & 0 & 0 & 0.333333333333333 & 0\\\\0 & 0 & 0 & 0 & 0 & 0 & 0 & 0.333333333333333\\end{matrix}\\right]$"
      ],
      "text/plain": [
       "Matrix([\n",
       "[0.333333333333333,                 0,                 0,                 0,                 0,                 0,                 0,                 0],\n",
       "[                0, 0.333333333333333,                 0,                 0,                 0,                 0,                 0,                 0],\n",
       "[                0,                 0, 0.333333333333333,                 0,                 0,                 0,                 0,                 0],\n",
       "[                0,                 0,                 0, 0.333333333333333,                 0,                 0,                 0,                 0],\n",
       "[                0,                 0,                 0,                 0, 0.333333333333333,                 0,                 0,                 0],\n",
       "[                0,                 0,                 0,                 0,                 0, 0.333333333333333,                 0,                 0],\n",
       "[                0,                 0,                 0,                 0,                 0,                 0, 0.333333333333333,                 0],\n",
       "[                0,                 0,                 0,                 0,                 0,                 0,                 0, 0.333333333333333]])"
      ]
     },
     "metadata": {},
     "execution_count": 169
    }
   ],
   "metadata": {}
  },
  {
   "cell_type": "markdown",
   "source": [
    "Control phase introduces pi shift."
   ],
   "metadata": {}
  },
  {
   "cell_type": "code",
   "execution_count": 170,
   "source": [
    "sigma_x = np.array([[0,1],[1,0]])\r\n",
    "shift_pi = np.array([[1,0],[0,-1j]]) #shift of pi + phi/2\r\n",
    "eye2 = np.array([[1,0],[0,1]])\r\n",
    "flip = np.kron(np.kron(eye2, sigma_x), shift_pi @ sigma_x)\r\n",
    "sp_flip = sp.Matrix(flip)\r\n",
    "mat = sp_flip * two_photon_operator.subs([('Th', 1), ('Tv', 1/3), ('x', 0), ('y', 0), ('z', 0)])\r\n",
    "sp.N(-mat, chop=1e-12)"
   ],
   "outputs": [
    {
     "output_type": "execute_result",
     "data": {
      "text/latex": [
       "$\\displaystyle \\left[\\begin{matrix}0.333333333333333 & 0 & 0 & 0 & 0 & 0 & 0 & 0\\\\0 & 0.333333333333333 & 0 & 0 & 0 & 0 & 0 & 0\\\\0 & 0 & 0.333333333333333 & 0 & 0 & 0 & 0 & 0\\\\0 & 0 & 0 & 0.333333333333333 & 0 & 0 & 0 & 0\\\\0 & 0 & 0 & 0 & 0.333333333333333 & 0 & 0 & 0\\\\0 & 0 & 0 & 0 & 0 & 0.333333333333333 & 0 & 0\\\\0 & 0 & 0 & 0 & 0 & 0 & 0.333333333333333 & 0\\\\0 & 0 & 0 & 0 & 0 & 0 & 0 & -0.333333333333333\\end{matrix}\\right]$"
      ],
      "text/plain": [
       "Matrix([\n",
       "[0.333333333333333,                 0,                 0,                 0,                 0,                 0,                 0,                  0],\n",
       "[                0, 0.333333333333333,                 0,                 0,                 0,                 0,                 0,                  0],\n",
       "[                0,                 0, 0.333333333333333,                 0,                 0,                 0,                 0,                  0],\n",
       "[                0,                 0,                 0, 0.333333333333333,                 0,                 0,                 0,                  0],\n",
       "[                0,                 0,                 0,                 0, 0.333333333333333,                 0,                 0,                  0],\n",
       "[                0,                 0,                 0,                 0,                 0, 0.333333333333333,                 0,                  0],\n",
       "[                0,                 0,                 0,                 0,                 0,                 0, 0.333333333333333,                  0],\n",
       "[                0,                 0,                 0,                 0,                 0,                 0,                 0, -0.333333333333333]])"
      ]
     },
     "metadata": {},
     "execution_count": 170
    }
   ],
   "metadata": {}
  },
  {
   "cell_type": "markdown",
   "source": [
    "gate introduces pi/2 shift\r\n",
    "but the success probability is lowered even more, from 1/9 to 1/18."
   ],
   "metadata": {}
  },
  {
   "cell_type": "code",
   "execution_count": 171,
   "source": [
    "sigma_x = np.array([[0,1],[1,0]])\r\n",
    "shift_pi = np.array([[1,0],[0,np.exp(-1j*np.pi*(0.25+0.5))]])\r\n",
    "eye2 = np.array([[1,0],[0,1]])\r\n",
    "flip = np.kron(np.kron(eye2, sigma_x), shift_pi @ sigma_x)\r\n",
    "sp_flip = sp.Matrix(flip)\r\n",
    "mat = sp_flip * two_photon_operator.subs([('Th', 1), ('Tv', 1/3), ('x', np.pi/8), ('y', np.pi/8), ('z', np.pi/8)])\r\n",
    "sp.N(-mat, chop=1e-12)"
   ],
   "outputs": [
    {
     "output_type": "execute_result",
     "data": {
      "text/latex": [
       "$\\displaystyle \\left[\\begin{matrix}0.235702260395516 & 0 & 0 & 0 & 0 & 0 & 0 & 0\\\\0 & 0.235702260395516 & 0 & 0 & 0 & 0 & 0 & 0\\\\0 & 0 & 0.235702260395516 & 0 & 0 & 0 & 0 & 0\\\\0 & 0 & 0 & 0.235702260395516 & 0 & 0 & 0 & 0\\\\0 & 0 & 0 & 0 & 0.235702260395516 & 0 & 0 & 0\\\\0 & 0 & 0 & 0 & 0 & 0.235702260395516 & 0 & 0\\\\0 & 0 & 0 & 0 & 0 & 0 & 0.235702260395516 & 0\\\\0 & 0 & 0 & 0 & 0 & 0 & 0 & 0.235702260395516 i\\end{matrix}\\right]$"
      ],
      "text/plain": [
       "Matrix([\n",
       "[0.235702260395516,                 0,                 0,                 0,                 0,                 0,                 0,                   0],\n",
       "[                0, 0.235702260395516,                 0,                 0,                 0,                 0,                 0,                   0],\n",
       "[                0,                 0, 0.235702260395516,                 0,                 0,                 0,                 0,                   0],\n",
       "[                0,                 0,                 0, 0.235702260395516,                 0,                 0,                 0,                   0],\n",
       "[                0,                 0,                 0,                 0, 0.235702260395516,                 0,                 0,                   0],\n",
       "[                0,                 0,                 0,                 0,                 0, 0.235702260395516,                 0,                   0],\n",
       "[                0,                 0,                 0,                 0,                 0,                 0, 0.235702260395516,                   0],\n",
       "[                0,                 0,                 0,                 0,                 0,                 0,                 0, 0.235702260395516*I]])"
      ]
     },
     "metadata": {},
     "execution_count": 171
    }
   ],
   "metadata": {}
  }
 ],
 "metadata": {
  "orig_nbformat": 4,
  "language_info": {
   "name": "python",
   "version": "3.7.1",
   "mimetype": "text/x-python",
   "codemirror_mode": {
    "name": "ipython",
    "version": 3
   },
   "pygments_lexer": "ipython3",
   "nbconvert_exporter": "python",
   "file_extension": ".py"
  },
  "kernelspec": {
   "name": "python3",
   "display_name": "Python 3.7.1 64-bit ('base': conda)"
  },
  "interpreter": {
   "hash": "9edc0e85da01f36cb21954a38b5a549841b5633a9a4527f1fb430ae3c8ff1be1"
  }
 },
 "nbformat": 4,
 "nbformat_minor": 2
}