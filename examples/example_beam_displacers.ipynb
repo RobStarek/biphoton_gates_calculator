{
 "cells": [
  {
   "cell_type": "markdown",
   "source": [
    "# Example 5: polarizing beam displacers\r\n",
    "Polarizing beam displacers (BD) are essentially mode switches.\r\n",
    "Here we show how to represent them in netlists.\r\n",
    "We consider BD which laterally displaces horizontally polarized light while keeping\r\n",
    "the vertically polarized light intact."
   ],
   "metadata": {}
  },
  {
   "cell_type": "code",
   "execution_count": 29,
   "source": [
    "import json\r\n",
    "import numpy as np\r\n",
    "import sympy as sp\r\n",
    "import matplotlib.pyplot as plt\r\n",
    "from json_netlist import instantiate_netlist_components, sp_calculate_effective_matrix"
   ],
   "outputs": [],
   "metadata": {}
  },
  {
   "cell_type": "markdown",
   "source": [
    "## 1 to 2 paths beam-displacers\n",
    "We represent the beam displacer as 'atten' type which is a diagonal operator that serves as attenuator.\n",
    "The mode routing is defined by suitable specification of terminal connections in\n",
    "input_modes and output_modes lists.\n",
    "Here, input mode 0 (path 0, pol H) is routed to output mode 0 (path 0, pol H),\n",
    "input mode 1 (path 0, pol V) is routed to output mode 3 (path 1, pol V)."
   ],
   "metadata": {}
  },
  {
   "cell_type": "code",
   "execution_count": 30,
   "source": [
    "netlist_js_bd12 = \"\"\"\r\n",
    "{\r\n",
    "    \"bd12\" : {\r\n",
    "      \"type\" : \"atten\",\r\n",
    "      \"input_modes\" : [0, 1, null, null],\r\n",
    "      \"output_modes\" : [0, 3, null, null],\r\n",
    "      \"layer\" : 0,\r\n",
    "      \"arguments\" : [1, 1, 0, 0],\r\n",
    "      \"kw_args\" : {\"sympy\" : false, \"integer\" : true}\r\n",
    "    }\r\n",
    "  }\r\n",
    "\"\"\"\r\n",
    "netlist_bd12 = json.loads(netlist_js_bd12)\r\n",
    "instances_bd12 = instantiate_netlist_components(netlist_bd12)\r\n",
    "map_bd12 = sp_calculate_effective_matrix(instances_bd12)\r\n",
    "map_bd12 #print single photon map"
   ],
   "outputs": [
    {
     "output_type": "execute_result",
     "data": {
      "text/latex": [
       "$\\displaystyle \\left[\\begin{matrix}1 & 0\\\\0 & 0\\\\0 & 0\\\\0 & 1\\end{matrix}\\right]$"
      ],
      "text/plain": [
       "Matrix([\n",
       "[1, 0],\n",
       "[0, 0],\n",
       "[0, 0],\n",
       "[0, 1]])"
      ]
     },
     "metadata": {},
     "execution_count": 30
    }
   ],
   "metadata": {}
  },
  {
   "cell_type": "markdown",
   "source": [
    "## 2 paths to 1 path beam-displacers\n",
    "* Input mode 0 (path 0, pol H) is discarded,\n",
    "* input mode 1 (path 0, pol V) is routed to out mode 1 (path 0, pol V),\n",
    "* input mode 2 (path 1, pol H) is routed to out mode 0 (path 0, pol H),\n",
    "* input mode 3 (path 1, pol V) is discarded"
   ],
   "metadata": {}
  },
  {
   "cell_type": "code",
   "execution_count": 31,
   "source": [
    "netlist_js_bd21 = \"\"\"\r\n",
    "{\r\n",
    "    \"bd21\" : {\r\n",
    "      \"type\" : \"atten\",\r\n",
    "      \"input_modes\" : [0, 1, 2, 3],\r\n",
    "      \"output_modes\" : [null, 1, 0, null],\r\n",
    "      \"layer\" : 0,\r\n",
    "      \"arguments\" : [0, 1, 1, 0],\r\n",
    "      \"kw_args\" : {\"sympy\" : false, \"integer\" : true}\r\n",
    "    }\r\n",
    "  }\r\n",
    "\"\"\"\r\n",
    "netlist_bd21 = json.loads(netlist_js_bd21)\r\n",
    "instances_bd21 = instantiate_netlist_components(netlist_bd21)\r\n",
    "map_bd21 = sp_calculate_effective_matrix(instances_bd21)\r\n",
    "map_bd21 #print single photon map"
   ],
   "outputs": [
    {
     "output_type": "execute_result",
     "data": {
      "text/latex": [
       "$\\displaystyle \\left[\\begin{matrix}0 & 0 & 1 & 0\\\\0 & 1 & 0 & 0\\end{matrix}\\right]$"
      ],
      "text/plain": [
       "Matrix([\n",
       "[0, 0, 1, 0],\n",
       "[0, 1, 0, 0]])"
      ]
     },
     "metadata": {},
     "execution_count": 31
    }
   ],
   "metadata": {}
  },
  {
   "cell_type": "markdown",
   "source": [
    "## 2 paths to 3 paths BD\n",
    "Note that by using higher mode indices in output_modes list, we automatically expand\n",
    "the dimensions to fit it our needs."
   ],
   "metadata": {}
  },
  {
   "cell_type": "code",
   "execution_count": 32,
   "source": [
    "netlist_js_bd23 = \"\"\"\r\n",
    "{\r\n",
    "    \"bd23\" : {\r\n",
    "      \"type\" : \"atten\",\r\n",
    "      \"input_modes\" : [0, 1, 2, 3],\r\n",
    "      \"output_modes\" : [0, 3, 2, 5],\r\n",
    "      \"layer\" : 0,\r\n",
    "      \"arguments\" : [1, 1, 1, 1],\r\n",
    "      \"kw_args\" : {\"sympy\" : false, \"integer\" : true}\r\n",
    "    }\r\n",
    "  }\r\n",
    "\"\"\"\r\n",
    "netlist_bd23 = json.loads(netlist_js_bd23)\r\n",
    "instances_bd23 = instantiate_netlist_components(netlist_bd23)\r\n",
    "map_bd23 = sp_calculate_effective_matrix(instances_bd23)\r\n",
    "map_bd23 #print single photon map"
   ],
   "outputs": [
    {
     "output_type": "execute_result",
     "data": {
      "text/latex": [
       "$\\displaystyle \\left[\\begin{matrix}1 & 0 & 0 & 0\\\\0 & 0 & 0 & 0\\\\0 & 0 & 1 & 0\\\\0 & 1 & 0 & 0\\\\0 & 0 & 0 & 0\\\\0 & 0 & 0 & 1\\end{matrix}\\right]$"
      ],
      "text/plain": [
       "Matrix([\n",
       "[1, 0, 0, 0],\n",
       "[0, 0, 0, 0],\n",
       "[0, 0, 1, 0],\n",
       "[0, 1, 0, 0],\n",
       "[0, 0, 0, 0],\n",
       "[0, 0, 0, 1]])"
      ]
     },
     "metadata": {},
     "execution_count": 32
    }
   ],
   "metadata": {}
  },
  {
   "cell_type": "markdown",
   "source": [
    "## 3 paths to 2 paths BD"
   ],
   "metadata": {}
  },
  {
   "cell_type": "code",
   "execution_count": 33,
   "source": [
    "netlist_js_bd32 = \"\"\"\r\n",
    "{\r\n",
    "    \"bd32\" : {\r\n",
    "      \"type\" : \"atten\",\r\n",
    "      \"input_modes\" : [0, 1, 2, 3, 4, 5],\r\n",
    "      \"output_modes\" : [null, 1, 0, 3, 2, null],\r\n",
    "      \"layer\" : 0,\r\n",
    "      \"arguments\" : [1, 1, 1, 1, 1, 1],\r\n",
    "      \"kw_args\" : {\"sympy\" : false, \"integer\" : true}\r\n",
    "    }\r\n",
    "  }\r\n",
    "\"\"\"\r\n",
    "netlist_bd32 = json.loads(netlist_js_bd32)\r\n",
    "instances_bd32 = instantiate_netlist_components(netlist_bd32)\r\n",
    "map_bd32 = sp_calculate_effective_matrix(instances_bd32)\r\n",
    "map_bd32 #print single photon map"
   ],
   "outputs": [
    {
     "output_type": "execute_result",
     "data": {
      "text/latex": [
       "$\\displaystyle \\left[\\begin{matrix}0 & 0 & 1 & 0 & 0 & 0\\\\0 & 1 & 0 & 0 & 0 & 0\\\\0 & 0 & 0 & 0 & 1 & 0\\\\0 & 0 & 0 & 1 & 0 & 0\\end{matrix}\\right]$"
      ],
      "text/plain": [
       "Matrix([\n",
       "[0, 0, 1, 0, 0, 0],\n",
       "[0, 1, 0, 0, 0, 0],\n",
       "[0, 0, 0, 0, 1, 0],\n",
       "[0, 0, 0, 1, 0, 0]])"
      ]
     },
     "metadata": {},
     "execution_count": 33
    }
   ],
   "metadata": {}
  },
  {
   "cell_type": "code",
   "execution_count": 34,
   "source": [
    "#alternative formulation\r\n",
    "netlist_js_bd32_alt = \"\"\"\r\n",
    "{\r\n",
    "    \"bd32_alt\" : {\r\n",
    "      \"type\" : \"atten\",\r\n",
    "      \"input_modes\" : [1, 2, 3, 4, 0, 5],\r\n",
    "      \"output_modes\" : [1, 0, 3, 2, null, null],\r\n",
    "      \"layer\" : 0,\r\n",
    "      \"arguments\" : [1, 1, 1, 1, 0, 0],\r\n",
    "      \"kw_args\" : {\"sympy\" : false, \"integer\" : true}\r\n",
    "    }\r\n",
    "  }\r\n",
    "\"\"\"\r\n",
    "netlist_bd32_alt = json.loads(netlist_js_bd32_alt)\r\n",
    "instances_bd32_alt = instantiate_netlist_components(netlist_bd32_alt)\r\n",
    "map_bd32_alt = sp_calculate_effective_matrix(instances_bd32_alt)\r\n",
    "map_bd32_alt #print single photon map"
   ],
   "outputs": [
    {
     "output_type": "execute_result",
     "data": {
      "text/latex": [
       "$\\displaystyle \\left[\\begin{matrix}0 & 0 & 1 & 0 & 0 & 0\\\\0 & 1 & 0 & 0 & 0 & 0\\\\0 & 0 & 0 & 0 & 1 & 0\\\\0 & 0 & 0 & 1 & 0 & 0\\end{matrix}\\right]$"
      ],
      "text/plain": [
       "Matrix([\n",
       "[0, 0, 1, 0, 0, 0],\n",
       "[0, 1, 0, 0, 0, 0],\n",
       "[0, 0, 0, 0, 1, 0],\n",
       "[0, 0, 0, 1, 0, 0]])"
      ]
     },
     "metadata": {},
     "execution_count": 34
    }
   ],
   "metadata": {}
  },
  {
   "cell_type": "markdown",
   "source": [
    "## Use of 1-2 paths BD while leaving another path intact\n",
    "Here we need to let the program know that we have more than 2 input modes to consider.\n",
    "Simple way is just adding two more elements in the routing lists."
   ],
   "metadata": {}
  },
  {
   "cell_type": "code",
   "execution_count": 35,
   "source": [
    "netlist_js_bd12_use = \"\"\"\r\n",
    "{\r\n",
    "    \"bd12\" : {\r\n",
    "      \"type\" : \"atten\",\r\n",
    "      \"input_modes\" : [0, 1, 2, 3],\r\n",
    "      \"output_modes\" : [0, 3, 4, 5],\r\n",
    "      \"layer\" : 0,\r\n",
    "      \"arguments\" : [1, 1, 1, 1],\r\n",
    "      \"kw_args\" : {\"sympy\" : false, \"integer\" : true}\r\n",
    "    }\r\n",
    "  }\r\n",
    "\"\"\"\r\n",
    "netlist_bd12_use = json.loads(netlist_js_bd12_use)\r\n",
    "instances_bd12_use = instantiate_netlist_components(netlist_bd12_use)\r\n",
    "map_bd12_use = sp_calculate_effective_matrix(instances_bd12_use)\r\n",
    "map_bd12_use #print single photon map"
   ],
   "outputs": [
    {
     "output_type": "execute_result",
     "data": {
      "text/latex": [
       "$\\displaystyle \\left[\\begin{matrix}1 & 0 & 0 & 0\\\\0 & 0 & 0 & 0\\\\0 & 0 & 0 & 0\\\\0 & 1 & 0 & 0\\\\0 & 0 & 1 & 0\\\\0 & 0 & 0 & 1\\end{matrix}\\right]$"
      ],
      "text/plain": [
       "Matrix([\n",
       "[1, 0, 0, 0],\n",
       "[0, 0, 0, 0],\n",
       "[0, 0, 0, 0],\n",
       "[0, 1, 0, 0],\n",
       "[0, 0, 1, 0],\n",
       "[0, 0, 0, 1]])"
      ]
     },
     "metadata": {},
     "execution_count": 35
    }
   ],
   "metadata": {}
  },
  {
   "cell_type": "markdown",
   "source": [
    "but typically one just adds some operations that operate on the other path and one would have to add them later anyway"
   ],
   "metadata": {}
  },
  {
   "cell_type": "code",
   "execution_count": 43,
   "source": [
    "netlist_js_bd12_use_alt = \"\"\"\r\n",
    "{\r\n",
    "    \"bd12\" : {\r\n",
    "      \"type\" : \"atten\",\r\n",
    "      \"input_modes\" : [0, 1],\r\n",
    "      \"output_modes\" : [0, 3],\r\n",
    "      \"layer\" : 0,\r\n",
    "      \"arguments\" : [1, 1],\r\n",
    "      \"kw_args\" : {\"sympy\" : false, \"integer\" : true}\r\n",
    "    },\r\n",
    "    \"identity\" : {\r\n",
    "      \"type\" : \"atten\",\r\n",
    "      \"input_modes\" : [2, 3],\r\n",
    "      \"output_modes\" : [4, 5],\r\n",
    "      \"layer\" : 0,\r\n",
    "      \"arguments\" : [1, 1],\r\n",
    "      \"kw_args\" : {\"sympy\" : false, \"integer\" : true}\r\n",
    "    }\r\n",
    "  }\r\n",
    "\"\"\"\r\n",
    "netlist_bd12_use_alt = json.loads(netlist_js_bd12_use_alt)\r\n",
    "instances_bd12_use_alt = instantiate_netlist_components(netlist_bd12_use_alt)\r\n",
    "map_bd12_use_alt = sp_calculate_effective_matrix(instances_bd12_use_alt)\r\n",
    "map_bd12_use_alt"
   ],
   "outputs": [
    {
     "output_type": "execute_result",
     "data": {
      "text/latex": [
       "$\\displaystyle \\left[\\begin{matrix}1 & 0 & 0 & 0\\\\0 & 0 & 0 & 0\\\\0 & 0 & 0 & 0\\\\0 & 1 & 0 & 0\\\\0 & 0 & 1 & 0\\\\0 & 0 & 0 & 1\\end{matrix}\\right]$"
      ],
      "text/plain": [
       "Matrix([\n",
       "[1, 0, 0, 0],\n",
       "[0, 0, 0, 0],\n",
       "[0, 0, 0, 0],\n",
       "[0, 1, 0, 0],\n",
       "[0, 0, 1, 0],\n",
       "[0, 0, 0, 1]])"
      ]
     },
     "metadata": {},
     "execution_count": 43
    }
   ],
   "metadata": {}
  },
  {
   "cell_type": "markdown",
   "source": [
    "## Use case - polarization-sensitive attenuator\n",
    "The filter is implemented by a placing half-wave plates (X, Y) into each of of the Mach-Zehnder interferometer formed by BD12 and BD21.\n",
    "Unwanted SX operation is compensated by another HWP (Z) rotated to 45 degrees. Optical phase $\\phi$ in the MZI is also considered."
   ],
   "metadata": {}
  },
  {
   "cell_type": "code",
   "execution_count": 42,
   "source": [
    "netlist_js_filter = \"\"\"\r\n",
    "{\r\n",
    "    \"bd12\" : {\r\n",
    "      \"type\" : \"atten\",\r\n",
    "      \"input_modes\" : [0, 1, null, null],\r\n",
    "      \"output_modes\" : [0, 3, null, null],\r\n",
    "      \"layer\" : 0,\r\n",
    "      \"arguments\" : [1, 1, 0, 0],\r\n",
    "      \"kw_args\" : {\"sympy\" : false, \"integer\" : true}\r\n",
    "    },\r\n",
    "    \"hwpX\" : {\r\n",
    "      \"type\" : \"hwp\",\r\n",
    "      \"input_modes\" : [0, 1],\r\n",
    "      \"output_modes\" : [0, 1],\r\n",
    "      \"layer\" : 1,\r\n",
    "      \"arguments\" : [\"x\", 0],\r\n",
    "      \"kw_args\" : {\"sympy\" : true}\r\n",
    "    },\r\n",
    "    \"hwpY\" : {\r\n",
    "      \"type\" : \"hwp\",\r\n",
    "      \"input_modes\" : [2, 3],\r\n",
    "      \"output_modes\" : [2, 3],\r\n",
    "      \"layer\" : 1,\r\n",
    "      \"arguments\" : [\"y\", 0],\r\n",
    "      \"kw_args\" : {\"sympy\" : true}\r\n",
    "    },  \r\n",
    "    \"phase\" : {\r\n",
    "      \"type\" : \"shift\",\r\n",
    "      \"input_modes\" : [0, 1, 2, 3],\r\n",
    "      \"output_modes\" : [0, 1, 2, 3],\r\n",
    "      \"layer\" : 2,\r\n",
    "      \"arguments\" : [0, \"phi\"],\r\n",
    "      \"kw_args\" : {\"sympy\" : true}\r\n",
    "    },        \r\n",
    "    \"bd21\" : {\r\n",
    "      \"type\" : \"atten\",\r\n",
    "      \"input_modes\" : [0, 1, 2, 3],\r\n",
    "      \"output_modes\" : [null, 1, 0, null],\r\n",
    "      \"layer\" : 3,\r\n",
    "      \"arguments\" : [0, 1, 1, 0],\r\n",
    "      \"kw_args\" : {\"sympy\" : false, \"integer\" : true}\r\n",
    "    },\r\n",
    "    \"hwpZ\" : {\r\n",
    "      \"type\" : \"hwp\",\r\n",
    "      \"input_modes\" : [0, 1],\r\n",
    "      \"output_modes\" : [0, 1],\r\n",
    "      \"layer\" : 4,\r\n",
    "      \"arguments\" : [\"z\", 0],\r\n",
    "      \"kw_args\" : {\"sympy\" : true}\r\n",
    "    }           \r\n",
    "  }\r\n",
    "\"\"\"\r\n",
    "netlist_filter = json.loads(netlist_js_filter)\r\n",
    "instances_filter = instantiate_netlist_components(netlist_filter)\r\n",
    "map_filter_raw = sp_calculate_effective_matrix(instances_filter)\r\n",
    "map_filter_simplified = sp.simplify(map_filter_raw.subs([('z', sp.pi/4)])) #print single photon map\r\n",
    "map_filter_simplified"
   ],
   "outputs": [
    {
     "output_type": "execute_result",
     "data": {
      "text/latex": [
       "$\\displaystyle \\left[\\begin{matrix}1.0 \\sin{\\left(2 x \\right)} & 0\\\\0 & e^{i \\phi} \\sin{\\left(2 y \\right)}\\end{matrix}\\right]$"
      ],
      "text/plain": [
       "Matrix([\n",
       "[1.0*sin(2*x),                   0],\n",
       "[           0, exp(I*phi)*sin(2*y)]])"
      ]
     },
     "metadata": {},
     "execution_count": 42
    }
   ],
   "metadata": {}
  }
 ],
 "metadata": {
  "interpreter": {
   "hash": "9edc0e85da01f36cb21954a38b5a549841b5633a9a4527f1fb430ae3c8ff1be1"
  },
  "kernelspec": {
   "name": "python3",
   "display_name": "Python 3.7.1 64-bit ('base': conda)"
  },
  "language_info": {
   "codemirror_mode": {
    "name": "ipython",
    "version": 3
   },
   "file_extension": ".py",
   "mimetype": "text/x-python",
   "name": "python",
   "nbconvert_exporter": "python",
   "pygments_lexer": "ipython3",
   "version": "3.7.1"
  },
  "orig_nbformat": 4
 },
 "nbformat": 4,
 "nbformat_minor": 2
}