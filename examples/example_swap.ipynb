{
 "cells": [
  {
   "cell_type": "markdown",
   "source": [
    "# Example 3: SWAP gate for hyperencoded qubits\r\n",
    "..."
   ],
   "metadata": {}
  },
  {
   "cell_type": "code",
   "execution_count": 1,
   "source": [
    "import json\r\n",
    "import numpy as np\r\n",
    "import sympy as sp\r\n",
    "from json_netlist import instantiate_netlist_components, sp_calculate_effective_matrix\r\n",
    "from two_photon_conversion import sp_construct_operator, sp_create_filter_matrix"
   ],
   "outputs": [],
   "metadata": {}
  },
  {
   "cell_type": "markdown",
   "source": [
    "mode numbering:\r\n",
    "* 0 : path A, polarization H\r\n",
    "* 1 : path A, polarization V\r\n",
    "* 2 : path B, polarization H\r\n",
    "* 3 : path B, polarization V\r\n",
    "* 4 : path C, polarization H\r\n",
    "* 5 : path C, polarization V\r\n",
    "it is same for input and output"
   ],
   "metadata": {}
  },
  {
   "cell_type": "code",
   "execution_count": 2,
   "source": [
    "netlist_json_string = \"\"\"\r\n",
    "{\r\n",
    "    \"BD23\" : {\r\n",
    "      \"type\" : \"atten\",\r\n",
    "      \"input_modes\" : [0,1,2,3,null,null],\r\n",
    "      \"output_modes\" : [0,3,2,5, null, null],\r\n",
    "      \"layer\" : 0,\r\n",
    "      \"arguments\" : [1, 1, 1, 1, 0, 0],\r\n",
    "      \"kw_args\" : {\"sympy\" : false, \"integer\" : true}\r\n",
    "    },\r\n",
    "    \"HWP45_pt1\" : {\r\n",
    "      \"type\" : \"hwp\",\r\n",
    "      \"input_modes\" : [0,1],\r\n",
    "      \"output_modes\" : [0,1],\r\n",
    "      \"layer\" : 1,\r\n",
    "      \"arguments\" : [\"x1\", 0],\r\n",
    "      \"kw_args\" : {\"sympy\" : true}\r\n",
    "    },\r\n",
    "    \"HWP45_pt2\" : {\r\n",
    "      \"type\" : \"hwp\",\r\n",
    "      \"input_modes\" : [4,5],\r\n",
    "      \"output_modes\" : [4,5],\r\n",
    "      \"layer\" : 1,\r\n",
    "      \"arguments\" : [\"x1\", 0],\r\n",
    "      \"kw_args\" : {\"sympy\" : true}\r\n",
    "    },    \r\n",
    "    \"HWP0\" : {\r\n",
    "      \"type\" : \"hwp\",\r\n",
    "      \"input_modes\" : [2,3],\r\n",
    "      \"output_modes\" : [2,3],\r\n",
    "      \"layer\" : 1,\r\n",
    "      \"arguments\" : [\"x0\", 0],\r\n",
    "      \"kw_args\" : {\"sympy\" : true}\r\n",
    "    },\r\n",
    "    \"phase1\" : {\r\n",
    "      \"type\" : \"shift\",\r\n",
    "      \"input_modes\" : [0,1,2,3,4,5],\r\n",
    "      \"output_modes\" : [0,1,2,3,4,5],\r\n",
    "      \"layer\" : 2,\r\n",
    "      \"arguments\" : [0, 0, 0],\r\n",
    "      \"kw_args\" : {\"sympy\" : false}\r\n",
    "    },                \r\n",
    "    \"BD32\" : {\r\n",
    "      \"type\" : \"atten\",\r\n",
    "      \"input_modes\" : [0,1,2,3,4,5],\r\n",
    "      \"output_modes\" : [null,1,0,3,2, null],\r\n",
    "      \"layer\" : 3,\r\n",
    "      \"arguments\" : [0, 1, 1, 1, 1, 0],\r\n",
    "      \"kw_args\" : {\"sympy\" : false, \"integer\" : true}\r\n",
    "    },\r\n",
    "    \"sxHWP45_pt1\" : {\r\n",
    "      \"type\" : \"hwp\",\r\n",
    "      \"input_modes\" : [0,1],\r\n",
    "      \"output_modes\" : [0,1],\r\n",
    "      \"layer\" : 4,\r\n",
    "      \"arguments\" : [\"x2\", 0],\r\n",
    "      \"kw_args\" : {\"sympy\" : true}\r\n",
    "    },\r\n",
    "    \"sxHWP45_pt2\" : {\r\n",
    "      \"type\" : \"hwp\",\r\n",
    "      \"input_modes\" : [2,3],\r\n",
    "      \"output_modes\" : [2,3],\r\n",
    "      \"layer\" : 4,\r\n",
    "      \"arguments\" : [\"x2\", 0],\r\n",
    "      \"kw_args\" : {\"sympy\" : true}\r\n",
    "    },\r\n",
    "    \"phase2\" : {\r\n",
    "      \"type\" : \"shift\",\r\n",
    "      \"input_modes\" : [0,1,2,3],\r\n",
    "      \"output_modes\" : [0,1,2,3],\r\n",
    "      \"layer\" : 5,\r\n",
    "      \"arguments\" : [0, 0],\r\n",
    "      \"kw_args\" : {\"sympy\" : false}\r\n",
    "    }                 \r\n",
    "}\r\n",
    "\"\"\"\r\n",
    "netlist = json.loads(netlist_json_string)\r\n",
    "instances = instantiate_netlist_components(netlist)\r\n",
    "single_photon_map = sp_calculate_effective_matrix(instances)"
   ],
   "outputs": [
    {
     "output_type": "stream",
     "name": "stderr",
     "text": [
      "c:\\Users\\QOLO\\Dropbox\\MicudaStarek\\Lades_search\\netlist\\components.py:339: ComplexWarning: Casting complex values to real discards the imaginary part\n",
      "  self.sp_matrix = sp.matrices.Matrix(self.npy_matrix.astype(int))\n"
     ]
    },
    {
     "output_type": "execute_result",
     "data": {
      "text/latex": [
       "$\\displaystyle \\left[\\begin{matrix}4.0 \\sin{\\left(x_{1} \\right)} \\sin{\\left(x_{2} \\right)} \\cos{\\left(x_{1} \\right)} \\cos{\\left(x_{2} \\right)} & 2.0 \\left(- \\sin^{2}{\\left(x_{2} \\right)} + \\cos^{2}{\\left(x_{2} \\right)}\\right) \\sin{\\left(x_{0} \\right)} \\cos{\\left(x_{0} \\right)} & 1.0 \\left(- 1.0 \\sin^{2}{\\left(x_{0} \\right)} + 1.0 \\cos^{2}{\\left(x_{0} \\right)}\\right) \\left(- \\sin^{2}{\\left(x_{2} \\right)} + \\cos^{2}{\\left(x_{2} \\right)}\\right) & 0\\\\2.0 \\left(\\sin^{2}{\\left(x_{2} \\right)} - \\cos^{2}{\\left(x_{2} \\right)}\\right) \\sin{\\left(x_{1} \\right)} \\cos{\\left(x_{1} \\right)} & 4.0 \\sin{\\left(x_{0} \\right)} \\sin{\\left(x_{2} \\right)} \\cos{\\left(x_{0} \\right)} \\cos{\\left(x_{2} \\right)} & 2.0 \\left(- 1.0 \\sin^{2}{\\left(x_{0} \\right)} + 1.0 \\cos^{2}{\\left(x_{0} \\right)}\\right) \\sin{\\left(x_{2} \\right)} \\cos{\\left(x_{2} \\right)} & 0\\\\0 & 2.0 \\cdot \\left(1.0 \\sin^{2}{\\left(x_{0} \\right)} - 1.0 \\cos^{2}{\\left(x_{0} \\right)}\\right) \\sin{\\left(x_{2} \\right)} \\cos{\\left(x_{2} \\right)} & 4.0 \\sin{\\left(x_{0} \\right)} \\sin{\\left(x_{2} \\right)} \\cos{\\left(x_{0} \\right)} \\cos{\\left(x_{2} \\right)} & 2.0 \\left(- \\sin^{2}{\\left(x_{2} \\right)} + \\cos^{2}{\\left(x_{2} \\right)}\\right) \\sin{\\left(x_{1} \\right)} \\cos{\\left(x_{1} \\right)}\\\\0 & 1.0 \\cdot \\left(1.0 \\sin^{2}{\\left(x_{0} \\right)} - 1.0 \\cos^{2}{\\left(x_{0} \\right)}\\right) \\left(\\sin^{2}{\\left(x_{2} \\right)} - \\cos^{2}{\\left(x_{2} \\right)}\\right) & 2.0 \\left(\\sin^{2}{\\left(x_{2} \\right)} - \\cos^{2}{\\left(x_{2} \\right)}\\right) \\sin{\\left(x_{0} \\right)} \\cos{\\left(x_{0} \\right)} & 4.0 \\sin{\\left(x_{1} \\right)} \\sin{\\left(x_{2} \\right)} \\cos{\\left(x_{1} \\right)} \\cos{\\left(x_{2} \\right)}\\end{matrix}\\right]$"
      ],
      "text/plain": [
       "Matrix([\n",
       "[          4.0*sin(x1)*sin(x2)*cos(x1)*cos(x2),                  2.0*(-sin(x2)**2 + cos(x2)**2)*sin(x0)*cos(x0), 1.0*(-1.0*sin(x0)**2 + 1.0*cos(x0)**2)*(-sin(x2)**2 + cos(x2)**2),                                              0],\n",
       "[2.0*(sin(x2)**2 - cos(x2)**2)*sin(x1)*cos(x1),                             4.0*sin(x0)*sin(x2)*cos(x0)*cos(x2),            2.0*(-1.0*sin(x0)**2 + 1.0*cos(x0)**2)*sin(x2)*cos(x2),                                              0],\n",
       "[                                            0,           2.0*(1.0*sin(x0)**2 - 1.0*cos(x0)**2)*sin(x2)*cos(x2),                               4.0*sin(x0)*sin(x2)*cos(x0)*cos(x2), 2.0*(-sin(x2)**2 + cos(x2)**2)*sin(x1)*cos(x1)],\n",
       "[                                            0, 1.0*(1.0*sin(x0)**2 - 1.0*cos(x0)**2)*(sin(x2)**2 - cos(x2)**2),                     2.0*(sin(x2)**2 - cos(x2)**2)*sin(x0)*cos(x0),            4.0*sin(x1)*sin(x2)*cos(x1)*cos(x2)]])"
      ]
     },
     "metadata": {},
     "execution_count": 2
    }
   ],
   "metadata": {}
  },
  {
   "cell_type": "code",
   "execution_count": 4,
   "source": [
    "#use right values to achieve swap operation\r\n",
    "DEG = np.pi/180.\r\n",
    "sp.N(single_photon_map.subs([('x0', 0), ('x1', 45*DEG), ('x2', 45*DEG)]), chop=1e-12)"
   ],
   "outputs": [
    {
     "output_type": "execute_result",
     "data": {
      "text/latex": [
       "$\\displaystyle \\left[\\begin{matrix}1.0 & 0 & 0 & 0\\\\0 & 0 & 1.0 & 0\\\\0 & -1.0 & 0 & 0\\\\0 & 0 & 0 & 1.0\\end{matrix}\\right]$"
      ],
      "text/plain": [
       "Matrix([\n",
       "[1.0,    0,   0,   0],\n",
       "[  0,    0, 1.0,   0],\n",
       "[  0, -1.0,   0,   0],\n",
       "[  0,    0,   0, 1.0]])"
      ]
     },
     "metadata": {},
     "execution_count": 4
    }
   ],
   "metadata": {}
  }
 ],
 "metadata": {
  "orig_nbformat": 4,
  "language_info": {
   "name": "python",
   "version": "3.7.1",
   "mimetype": "text/x-python",
   "codemirror_mode": {
    "name": "ipython",
    "version": 3
   },
   "pygments_lexer": "ipython3",
   "nbconvert_exporter": "python",
   "file_extension": ".py"
  },
  "kernelspec": {
   "name": "python3",
   "display_name": "Python 3.7.1 64-bit ('base': conda)"
  },
  "interpreter": {
   "hash": "9edc0e85da01f36cb21954a38b5a549841b5633a9a4527f1fb430ae3c8ff1be1"
  }
 },
 "nbformat": 4,
 "nbformat_minor": 2
}