{
 "cells": [
  {
   "cell_type": "markdown",
   "metadata": {},
   "source": [
    "# Example 4: C3Z gate\n",
    "We extend mixing of two photons on a beam splitter to 8 optical modes,\n",
    "only two of them interfering. This creates CZ gate operating on two qudits\n",
    "or C3Z gate operating on the hyperencoded pairs of qubits."
   ]
  },
  {
   "cell_type": "code",
   "execution_count": 16,
   "metadata": {},
   "outputs": [],
   "source": [
    "import json\n",
    "import numpy as np\n",
    "import sympy as sp\n",
    "import matplotlib.pyplot as plt\n",
    "from json_netlist import instantiate_netlist_components, sp_calculate_effective_matrix\n",
    "from two_photon_conversion import sp_construct_operator, sp_create_filter_matrix"
   ]
  },
  {
   "cell_type": "markdown",
   "metadata": {},
   "source": [
    "mode numbering:\n",
    "* 0 : path 0, polarization H\n",
    "* 1 : path 0, polarization V\n",
    "* ...\n",
    "* 6 : path 3, polarization H\n",
    "* 7 : path 3, polarization V\n",
    "\n",
    "it is same for input and output"
   ]
  },
  {
   "cell_type": "code",
   "execution_count": 17,
   "metadata": {},
   "outputs": [
    {
     "data": {
      "text/latex": [
       "$\\displaystyle \\left[\\begin{matrix}\\sqrt{Th} \\sqrt{Th_{1}} & 0 & 0 & 0 & 0 & 0 & 0 & 0\\\\0 & \\sqrt{Tv} \\sqrt{Tv_{1}} & 0 & 0 & 0 & 0 & 0 & 0\\\\0 & 0 & \\sqrt{Th} \\sqrt{Th_{1}} & 0 & 0 & 0 & \\sqrt{Th_{1}} \\sqrt{1 - Th} & 0\\\\0 & 0 & 0 & \\sqrt{Tv} \\sqrt{Tv_{1}} & 0 & 0 & 0 & \\sqrt{Tv_{1}} \\sqrt{1 - Tv}\\\\0 & 0 & 0 & 0 & \\sqrt{Th} \\sqrt{Th_{1}} & 0 & 0 & 0\\\\0 & 0 & 0 & 0 & 0 & \\sqrt{Tv} \\sqrt{Tv_{1}} & 0 & 0\\\\0 & 0 & - \\sqrt{Th_{1}} \\sqrt{1 - Th} & 0 & 0 & 0 & \\sqrt{Th} \\sqrt{Th_{1}} & 0\\\\0 & 0 & 0 & - \\sqrt{Tv_{1}} \\sqrt{1 - Tv} & 0 & 0 & 0 & \\sqrt{Tv} \\sqrt{Tv_{1}}\\end{matrix}\\right]$"
      ],
      "text/plain": [
       "Matrix([\n",
       "[sqrt(Th)*sqrt(Th1),                  0,                       0,                       0,                  0,                  0,                      0,                      0],\n",
       "[                 0, sqrt(Tv)*sqrt(Tv1),                       0,                       0,                  0,                  0,                      0,                      0],\n",
       "[                 0,                  0,      sqrt(Th)*sqrt(Th1),                       0,                  0,                  0, sqrt(Th1)*sqrt(1 - Th),                      0],\n",
       "[                 0,                  0,                       0,      sqrt(Tv)*sqrt(Tv1),                  0,                  0,                      0, sqrt(Tv1)*sqrt(1 - Tv)],\n",
       "[                 0,                  0,                       0,                       0, sqrt(Th)*sqrt(Th1),                  0,                      0,                      0],\n",
       "[                 0,                  0,                       0,                       0,                  0, sqrt(Tv)*sqrt(Tv1),                      0,                      0],\n",
       "[                 0,                  0, -sqrt(Th1)*sqrt(1 - Th),                       0,                  0,                  0,     sqrt(Th)*sqrt(Th1),                      0],\n",
       "[                 0,                  0,                       0, -sqrt(Tv1)*sqrt(1 - Tv),                  0,                  0,                      0,     sqrt(Tv)*sqrt(Tv1)]])"
      ]
     },
     "execution_count": 17,
     "metadata": {},
     "output_type": "execute_result"
    }
   ],
   "source": [
    "netlist_json_string = \"\"\"\n",
    "{\n",
    "    \"CentralBS_pt1\" : {\n",
    "      \"type\" : \"BS2pol\",\n",
    "      \"input_modes\" : [2,3,6,7],\n",
    "      \"output_modes\" : [2,3,6,7],\n",
    "      \"layer\" : 0,\n",
    "      \"arguments\" : [\"Th\",\"Tv\"],\n",
    "      \"kw_args\" : {\"sympy\" : true}\n",
    "    },\n",
    "    \"CentralBS_pt2\" : {\n",
    "      \"type\" : \"BS2pol\",\n",
    "      \"input_modes\" : [0,1,null,null],\n",
    "      \"output_modes\" : [0,1,null,null],\n",
    "      \"layer\" : 0,\n",
    "      \"arguments\" : [\"Th\",\"Tv\"],\n",
    "      \"kw_args\" : {\"sympy\" : true}\n",
    "    },\n",
    "    \"CentralBS_pt3\" : {\n",
    "      \"type\" : \"BS2pol\",\n",
    "      \"input_modes\" : [null,null,4,5],\n",
    "      \"output_modes\" : [null,null,4,5],\n",
    "      \"layer\" : 0,\n",
    "      \"arguments\" : [\"Th\",\"Tv\"],\n",
    "      \"kw_args\" : {\"sympy\" : true}\n",
    "    },\n",
    "    \"AttenBS1_pt1\" : {\n",
    "      \"type\" : \"BS2pol\",\n",
    "      \"input_modes\" : [0,1,null,null],\n",
    "      \"output_modes\" : [0,1,null,null],\n",
    "      \"layer\" : 1,\n",
    "      \"arguments\" : [\"Th1\",\"Tv1\"],\n",
    "      \"kw_args\" : {\"sympy\" : true}\n",
    "    },\n",
    "    \"AttenBS1_pt2\" : {\n",
    "      \"type\" : \"BS2pol\",\n",
    "      \"input_modes\" : [2,3,null,null],\n",
    "      \"output_modes\" : [2,3,null,null],\n",
    "      \"layer\" : 1,\n",
    "      \"arguments\" : [\"Th1\",\"Tv1\"],\n",
    "      \"kw_args\" : {\"sympy\" : true}\n",
    "    },\n",
    "    \"AttenBS2_pt1\" : {\n",
    "      \"type\" : \"BS2pol\",\n",
    "      \"input_modes\" : [4,5,null,null],\n",
    "      \"output_modes\" : [4,5,null,null],\n",
    "      \"layer\" : 1,\n",
    "      \"arguments\" : [\"Th1\",\"Tv1\"],\n",
    "      \"kw_args\" : {\"sympy\" : true}\n",
    "    },\n",
    "    \"AttenBS2_pt2\" : {\n",
    "      \"type\" : \"BS2pol\",\n",
    "      \"input_modes\" : [6,7,null,null],\n",
    "      \"output_modes\" : [6,7,null,null],\n",
    "      \"layer\" : 1,\n",
    "      \"arguments\" : [\"Th1\",\"Tv1\"],\n",
    "      \"kw_args\" : {\"sympy\" : true}\n",
    "    }    \n",
    "  }\n",
    "\"\"\"\n",
    "netlist = json.loads(netlist_json_string)\n",
    "\n",
    "instances = instantiate_netlist_components(netlist)\n",
    "single_photon_map = sp_calculate_effective_matrix(instances)\n",
    "single_photon_map #print single photon map\n"
   ]
  },
  {
   "cell_type": "markdown",
   "metadata": {},
   "source": [
    "how computational basis state are encoded:\n",
    "* |0000> : signal, idler in modes 0, 4\n",
    "* |0001> : signal, idler in modes 0, 5\n",
    "* ...\n",
    "* |1111> : signal, idler in modes 3, 7\n",
    "\n",
    "the output encoding is the same."
   ]
  },
  {
   "cell_type": "code",
   "execution_count": 18,
   "metadata": {},
   "outputs": [
    {
     "data": {
      "text/latex": [
       "$\\displaystyle \\left[\\begin{array}{cccccccccccccccc}0.333333333333333 & 0 & 0 & 0 & 0 & 0 & 0 & 0 & 0 & 0 & 0 & 0 & 0 & 0 & 0 & 0\\\\0 & 0.333333333333333 & 0 & 0 & 0 & 0 & 0 & 0 & 0 & 0 & 0 & 0 & 0 & 0 & 0 & 0\\\\0 & 0 & 0.333333333333333 & 0 & 0 & 0 & 0 & 0 & 0 & 0 & 0 & 0 & 0 & 0 & 0 & 0\\\\0 & 0 & 0 & 0.333333333333333 & 0 & 0 & 0 & 0 & 0 & 0 & 0 & 0 & 0 & 0 & 0 & 0\\\\0 & 0 & 0 & 0 & 0.333333333333333 & 0 & 0 & 0 & 0 & 0 & 0 & 0 & 0 & 0 & 0 & 0\\\\0 & 0 & 0 & 0 & 0 & 0.333333333333333 & 0 & 0 & 0 & 0 & 0 & 0 & 0 & 0 & 0 & 0\\\\0 & 0 & 0 & 0 & 0 & 0 & 0.333333333333333 & 0 & 0 & 0 & 0 & 0 & 0 & 0 & 0 & 0\\\\0 & 0 & 0 & 0 & 0 & 0 & 0 & 0.333333333333333 & 0 & 0 & 0 & 0 & 0 & 0 & 0 & 0\\\\0 & 0 & 0 & 0 & 0 & 0 & 0 & 0 & 0.333333333333333 & 0 & 0 & 0 & 0 & 0 & 0 & 0\\\\0 & 0 & 0 & 0 & 0 & 0 & 0 & 0 & 0 & 0.333333333333333 & 0 & 0 & 0 & 0 & 0 & 0\\\\0 & 0 & 0 & 0 & 0 & 0 & 0 & 0 & 0 & 0 & 0.333333333333333 & 0 & 0 & 0 & 0 & 0\\\\0 & 0 & 0 & 0 & 0 & 0 & 0 & 0 & 0 & 0 & 0 & 0.333333333333333 & 0 & 0 & 0 & 0\\\\0 & 0 & 0 & 0 & 0 & 0 & 0 & 0 & 0 & 0 & 0 & 0 & 0.333333333333333 & 0 & 0 & 0\\\\0 & 0 & 0 & 0 & 0 & 0 & 0 & 0 & 0 & 0 & 0 & 0 & 0 & 0.333333333333333 & 0 & 0\\\\0 & 0 & 0 & 0 & 0 & 0 & 0 & 0 & 0 & 0 & 0 & 0 & 0 & 0 & 0.333333333333333 & 0\\\\0 & 0 & 0 & 0 & 0 & 0 & 0 & 0 & 0 & 0 & 0 & 0 & 0 & 0 & 0 & -0.333333333333333\\end{array}\\right]$"
      ],
      "text/plain": [
       "Matrix([\n",
       "[0.333333333333333,                 0,                 0,                 0,                 0,                 0,                 0,                 0,                 0,                 0,                 0,                 0,                 0,                 0,                 0,                  0],\n",
       "[                0, 0.333333333333333,                 0,                 0,                 0,                 0,                 0,                 0,                 0,                 0,                 0,                 0,                 0,                 0,                 0,                  0],\n",
       "[                0,                 0, 0.333333333333333,                 0,                 0,                 0,                 0,                 0,                 0,                 0,                 0,                 0,                 0,                 0,                 0,                  0],\n",
       "[                0,                 0,                 0, 0.333333333333333,                 0,                 0,                 0,                 0,                 0,                 0,                 0,                 0,                 0,                 0,                 0,                  0],\n",
       "[                0,                 0,                 0,                 0, 0.333333333333333,                 0,                 0,                 0,                 0,                 0,                 0,                 0,                 0,                 0,                 0,                  0],\n",
       "[                0,                 0,                 0,                 0,                 0, 0.333333333333333,                 0,                 0,                 0,                 0,                 0,                 0,                 0,                 0,                 0,                  0],\n",
       "[                0,                 0,                 0,                 0,                 0,                 0, 0.333333333333333,                 0,                 0,                 0,                 0,                 0,                 0,                 0,                 0,                  0],\n",
       "[                0,                 0,                 0,                 0,                 0,                 0,                 0, 0.333333333333333,                 0,                 0,                 0,                 0,                 0,                 0,                 0,                  0],\n",
       "[                0,                 0,                 0,                 0,                 0,                 0,                 0,                 0, 0.333333333333333,                 0,                 0,                 0,                 0,                 0,                 0,                  0],\n",
       "[                0,                 0,                 0,                 0,                 0,                 0,                 0,                 0,                 0, 0.333333333333333,                 0,                 0,                 0,                 0,                 0,                  0],\n",
       "[                0,                 0,                 0,                 0,                 0,                 0,                 0,                 0,                 0,                 0, 0.333333333333333,                 0,                 0,                 0,                 0,                  0],\n",
       "[                0,                 0,                 0,                 0,                 0,                 0,                 0,                 0,                 0,                 0,                 0, 0.333333333333333,                 0,                 0,                 0,                  0],\n",
       "[                0,                 0,                 0,                 0,                 0,                 0,                 0,                 0,                 0,                 0,                 0,                 0, 0.333333333333333,                 0,                 0,                  0],\n",
       "[                0,                 0,                 0,                 0,                 0,                 0,                 0,                 0,                 0,                 0,                 0,                 0,                 0, 0.333333333333333,                 0,                  0],\n",
       "[                0,                 0,                 0,                 0,                 0,                 0,                 0,                 0,                 0,                 0,                 0,                 0,                 0,                 0, 0.333333333333333,                  0],\n",
       "[                0,                 0,                 0,                 0,                 0,                 0,                 0,                 0,                 0,                 0,                 0,                 0,                 0,                 0,                 0, -0.333333333333333]])"
      ]
     },
     "execution_count": 18,
     "metadata": {},
     "output_type": "execute_result"
    }
   ],
   "source": [
    "allowed_inputs = [(i_signal, j_idler+4) for i_signal in range(4) for j_idler in range(4)]\n",
    "allowed_outputs = [(i_signal, j_idler+4) for i_signal in range(4) for j_idler in range(4)]\n",
    "n_map_rows = single_photon_map.shape[0]\n",
    "filter_matrix = sp_create_filter_matrix(allowed_outputs, n_map_rows, True, True)\n",
    "two_photon_operator = sp_construct_operator(single_photon_map, allowed_inputs, filter_matrix)\n",
    "#two_photon_operator #print single photon map\n",
    "sp.N(two_photon_operator.subs([('Th', 1), ('Tv', 1/3), ('Th1', 1/3), ('Tv1', 1)] ),chop=1e-12)"
   ]
  }
 ],
 "metadata": {
  "interpreter": {
   "hash": "2cdc63a486fc470a90c83b321bca03bc7c5eabd361d407783295ec631efd6f79"
  },
  "kernelspec": {
   "display_name": "Python 3.7.6 ('base')",
   "language": "python",
   "name": "python3"
  },
  "language_info": {
   "codemirror_mode": {
    "name": "ipython",
    "version": 3
   },
   "file_extension": ".py",
   "mimetype": "text/x-python",
   "name": "python",
   "nbconvert_exporter": "python",
   "pygments_lexer": "ipython3",
   "version": "3.7.6"
  },
  "orig_nbformat": 4
 },
 "nbformat": 4,
 "nbformat_minor": 2
}
